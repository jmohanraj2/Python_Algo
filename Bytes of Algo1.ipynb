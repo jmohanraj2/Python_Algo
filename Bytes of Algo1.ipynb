{
 "cells": [
  {
   "cell_type": "code",
   "execution_count": 24,
   "id": "54e248b2",
   "metadata": {},
   "outputs": [],
   "source": [
    "ordr = {'tid': 'server5_4958091', 'stat': 'Ok', 'stCode': 200, 'data': [{'brkClnt': '08081', 'ordValDt': 'NA', 'exUsrInfo': 'NA', 'mfdBy': 'NA', 'vendorCode': '', 'rmk': '--', 'odCrt': 'NA', 'ordSrc': 'ADMINCPPAPI_MOB', 'sipInd': 'NA', 'prc': '16.40', 'prcTp': 'L', 'cnlQty': 0, 'uSec': '608907', 'classification': '0', 'mktPro': '0.00', 'ordEntTm': '29-Nov-2023 14:10:15', 'reqId': '1', 'algSeqNo': 'NA', 'qty': 150, 'unFldSz': 0, 'mktProPct': '--', 'algCat': 'NA', 'exOrdId': '1700000143810854', 'dscQty': 0, 'actId': 'YVZZ0', 'expDt': '30 Nov, 2023', 'trgPrc': '0.00', 'tok': '58278', 'symOrdId': 'NA', 'fldQty': 150, 'ordDtTm': '29-Nov-2023 14:10:17', 'avgPrc': '16.40', 'locId': '333333333333100', 'algId': 'NA', 'stat': 'Ok', 'prod': 'MIS', 'exSeg': 'nse_fo', 'GuiOrdId': '1701247215-860912-AKLPY0424H-ADMINAPI', 'usrId': 'AKLPY0424H', 'rptTp': 'NA', 'exCfmTm': '29-Nov-2023 14:10:17', 'hsUpTm': '2023/11/29 14:10:24', 'ordGenTp': 'NA', 'vldt': 'DAY', 'tckSz': '0.05', 'ordSt': 'complete', 'trnsTp': 'B', 'refLmtPrc': 0.0, 'coPct': 0.0, 'nOrdNo': '231129001775490', 'ordAutSt': 'NA', 'rejRsn': '--', 'boeSec': 1701247217, 'expDtSsb': '1701354600', 'dscQtyPct': '0', 'stkPrc': '43800.00', 'sym': 'BANKNIFTY', 'trdSym': 'BANKNIFTY23NOV43800PE', 'multiplier': '1', 'precision': '2', 'noMktProFlg': '0.00', 'genNum': '1', 'series': 'XX', 'prcNum': '1', 'genDen': '1', 'brdLtQty': '15', 'mktProFlg': '0.00', 'defMktProV': '0.00', 'lotSz': '15', 'minQty': 0, 'optTp': 'PE', 'prcDen': '1'}, {'brkClnt': '08081', 'ordValDt': 'NA', 'exUsrInfo': 'NA', 'mfdBy': 'NA', 'vendorCode': '', 'rmk': '--', 'odCrt': 'NA', 'ordSrc': 'ADMINCPPAPI_MOB', 'sipInd': 'NA', 'prc': '14.90', 'prcTp': 'L', 'cnlQty': 0, 'uSec': '797630', 'classification': '0', 'mktPro': '0.00', 'ordEntTm': '29-Nov-2023 14:11:13', 'reqId': '1', 'algSeqNo': 'NA', 'qty': 150, 'unFldSz': 150, 'mktProPct': '--', 'algCat': 'NA', 'exOrdId': '1700000144166519', 'dscQty': 0, 'actId': 'YVZZ0', 'expDt': '30 Nov, 2023', 'trgPrc': '0.00', 'tok': '58278', 'symOrdId': 'NA', 'fldQty': 0, 'ordDtTm': '29-Nov-2023 14:11:13', 'avgPrc': '0.00', 'locId': '333333333333100', 'algId': 'NA', 'stat': 'Ok', 'prod': 'MIS', 'exSeg': 'nse_fo', 'GuiOrdId': '1701247273-790702-AKLPY0424H-ADMINAPI', 'usrId': 'AKLPY0424H', 'rptTp': 'NA', 'exCfmTm': '29-Nov-2023 14:11:13', 'hsUpTm': '2023/11/29 14:11:13', 'ordGenTp': 'NA', 'vldt': 'DAY', 'tckSz': '0.05', 'ordSt': 'open', 'trnsTp': 'B', 'refLmtPrc': 0.0, 'coPct': 0.0, 'nOrdNo': '231129001779651', 'ordAutSt': 'NA', 'rejRsn': '--', 'boeSec': 1701247273, 'expDtSsb': '1701354600', 'dscQtyPct': '0', 'stkPrc': '43800.00', 'sym': 'BANKNIFTY', 'trdSym': 'BANKNIFTY23NOV43800PE', 'multiplier': '1', 'precision': '2', 'noMktProFlg': '0.00', 'genNum': '1', 'series': 'XX', 'prcNum': '1', 'genDen': '1', 'brdLtQty': '15', 'mktProFlg': '0.00', 'defMktProV': '0.00', 'lotSz': '15', 'minQty': 0, 'optTp': 'PE', 'prcDen': '1'}, {'brkClnt': '08081', 'ordValDt': 'NA', 'exUsrInfo': 'NA', 'mfdBy': 'AKLPY0424H', 'vendorCode': '', 'rmk': '--', 'odCrt': 'NA', 'ordSrc': 'ADMINCPPAPI_MOB', 'sipInd': 'NA', 'prc': '18.45', 'prcTp': 'L', 'cnlQty': 0, 'uSec': '203730', 'classification': '0', 'mktPro': '0.00', 'ordEntTm': '29-Nov-2023 14:16:56', 'reqId': '2', 'algSeqNo': 'NA', 'qty': 150, 'unFldSz': 150, 'mktProPct': '--', 'algCat': 'NA', 'exOrdId': '1700000146203765', 'dscQty': 0, 'actId': 'YVZZ0', 'expDt': '30 Nov, 2023', 'trgPrc': '0.00', 'tok': '58278', 'symOrdId': 'NA', 'fldQty': 0, 'ordDtTm': '29-Nov-2023 14:16:56', 'avgPrc': '0.00', 'locId': '333333333333100', 'algId': 'NA', 'stat': 'Ok', 'prod': 'MIS', 'exSeg': 'nse_fo', 'GuiOrdId': '1701247616-197831-AKLPY0424H-ADMINAPI', 'usrId': 'AKLPY0424H', 'rptTp': 'NA', 'exCfmTm': '29-Nov-2023 14:16:56', 'hsUpTm': '2023/11/29 14:16:56', 'ordGenTp': 'NA', 'vldt': 'DAY', 'tckSz': '0.05', 'ordSt': 'open', 'trnsTp': 'S', 'refLmtPrc': 0.0, 'coPct': 0.0, 'nOrdNo': '231129001802014', 'ordAutSt': 'NA', 'rejRsn': '--', 'boeSec': 1701247616, 'expDtSsb': '1701354600', 'dscQtyPct': '0', 'stkPrc': '43800.00', 'sym': 'BANKNIFTY', 'trdSym': 'BANKNIFTY23NOV43800PE', 'multiplier': '1', 'precision': '2', 'noMktProFlg': '0.00', 'genNum': '1', 'series': 'XX', 'prcNum': '1', 'genDen': '1', 'brdLtQty': '15', 'mktProFlg': '0.00', 'defMktProV': '0.00', 'lotSz': '15', 'minQty': 0, 'optTp': 'PE', 'prcDen': '1'}]}\n",
    "postn = {'tid': 'server5_4998918', 'stat': 'Ok', 'stCode': 200, 'data': [{'buyAmt': '2460.00', 'cfSellAmt': '0.00', 'prod': 'MIS', 'exSeg': 'nse_fo', 'sqrFlg': 'Y', 'actId': 'YVZZ0', 'cfBuyQty': '0', 'hsUpTm': '2023/11/29 14:10:17', 'cfSellQty': '0', 'tok': '58278', 'flBuyQty': '150', 'flSellQty': '0', 'sellAmt': '0.00', 'posFlg': 'true', 'cfBuyAmt': '0.00', 'stkPrc': '43800.00', 'trdSym': 'BANKNIFTY23NOV43800PE', 'sym': 'BANKNIFTY', 'multiplier': '1', 'precision': '2', 'expDt': '30 Nov, 2023', 'type': 'OPTIDX', 'genNum': '1', 'series': 'XX', 'prcNum': '1', 'genDen': '1', 'brdLtQty': 15, 'exp': '1701354600', 'lotSz': '15', 'optTp': 'PE', 'prcDen': '1'}]}\n",
    "inst_quo = {'message': [{'last_traded_time': '23/11/2023 11:05:53', 'volume': '73655050', 'last_traded_price': '22.55', 'last_traded_quantity': '50', 'total_buy_quantity': '27961950', 'total_sell_quantity': '1697000', 'buy_price': '0.55', 'sell_price': '0.60', 'buy_quantity': '1482050', 'average_price': '0.63', 'lower_circuit_limit': '0.05', 'upper_circuit_limit': '11.70', '52week_high': '21474836.48', '52week_low': '21474836.48', 'open_interest': '18086400', 'multiplier': '1', 'precision': '2', 'change': '-1.10', 'net_change_percentage': '-66.67', 'total_traded_value': '46402681.50', 'instrument_token': '48241', 'exchange_segment': 'nse_fo', 'trading_symbol': 'NIFTY23N2319500PE', 'ohlc': {'open': '0.80', 'high': '0.80', 'low': '0.50', 'close': '1.65'}}]}"
   ]
  },
  {
   "cell_type": "code",
   "execution_count": null,
   "id": "0c69d0d5",
   "metadata": {},
   "outputs": [],
   "source": [
    "for postnn in postn['data']:\n",
    "    if postnn['flSellQty'] == '0':\n",
    "        open_postns = postnn"
   ]
  },
  {
   "cell_type": "code",
   "execution_count": 71,
   "id": "678cd5b0",
   "metadata": {},
   "outputs": [
    {
     "name": "stdout",
     "output_type": "stream",
     "text": [
      "pricce 17.97\n",
      "price1 17.97\n",
      "price2 16.15\n",
      "Qty1 50\n",
      "price3 14.4\n",
      "Qty2 100\n",
      "Qty3 200\n",
      "TRGR_PRC 13.85\n",
      "SLP 13.5\n",
      "TRGT 34.15\n",
      "350 150 15.41\n",
      "0\n",
      "{'buyAmt': '2460.00', 'cfSellAmt': '0.00', 'prod': 'MIS', 'exSeg': 'nse_fo', 'sqrFlg': 'Y', 'actId': 'YVZZ0', 'cfBuyQty': '0', 'hsUpTm': '2023/11/29 14:10:17', 'cfSellQty': '0', 'tok': '58278', 'flBuyQty': '150', 'flSellQty': '0', 'sellAmt': '0.00', 'posFlg': 'true', 'cfBuyAmt': '0.00', 'stkPrc': '43800.00', 'trdSym': 'BANKNIFTY23NOV43800PE', 'sym': 'BANKNIFTY', 'multiplier': '1', 'precision': '2', 'expDt': '30 Nov, 2023', 'type': 'OPTIDX', 'genNum': '1', 'series': 'XX', 'prcNum': '1', 'genDen': '1', 'brdLtQty': 15, 'exp': '1701354600', 'lotSz': '15', 'optTp': 'PE', 'prcDen': '1'}\n",
      "TRGT_TQY 150 price 34.15 quantity 150 trading_symbol \n"
     ]
    }
   ],
   "source": [
    "filtered_list = []\n",
    "TRGTT = 0.0\n",
    "TRGT_QTY = 0\n",
    "quantity = 0\n",
    "trading_symbol= \"\"\n",
    "ltp = 17.97\n",
    "Qty    = 50\n",
    "pricce = ltp\n",
    "print(\"pricce\",pricce)\n",
    "price1 = str(pricce)\n",
    "print(\"price1\",price1)\n",
    "Qty1   = str(Qty)\n",
    "price2 = str(decimal_roundoff(round((float(pricce)*0.9),2)))\n",
    "print(\"price2\",price2)\n",
    "print(\"Qty1\",Qty1)\n",
    "Qty2   = str(int(Qty1)*2)\n",
    "price3 = str(decimal_roundoff(round((float(pricce)*0.8),2)))\n",
    "print(\"price3\",price3)\n",
    "print(\"Qty2\",Qty2)\n",
    "Qty3   = str(int(Qty2)*2)\n",
    "print(\"Qty3\",Qty3)\n",
    "TRGR_PRC = str(decimal_roundoff(float(pricce)*0.77))\n",
    "SLP = str(decimal_roundoff(float(pricce)*0.75))\n",
    "print(\"TRGR_PRC\",TRGR_PRC)\n",
    "print(\"SLP\",SLP)\n",
    "TRGT   = str(decimal_roundoff(float(pricce)*1.9))\n",
    "print(\"TRGT\",TRGT)\n",
    "TQty = int(Qty1) + int(Qty2) + int(Qty3)\n",
    "SLPQTY1 = int(Qty1) + int(Qty2)\n",
    "#print(pricce,price1,price2,SLP)\n",
    "avg_trd_pricce = ((float(price1)*float(Qty1)) + (float(price2)*float(Qty2)) + (float(price3)*float(Qty3)))/(float(Qty1)+float(Qty2)+float(Qty3))\n",
    "print(TQty,SLPQTY1, avg_trd_pricce)\n",
    "\n",
    "test = postn['data'][0]['flSellQty']\n",
    "print(test)\n",
    "\n",
    "for postnn in postn['data']:\n",
    "    if postnn['flSellQty'] == '0':\n",
    "        open_postns = postnn\n",
    "        \n",
    "print(open_postns)\n",
    "# Place target order for all three quantites if LTP > AVG traded price\n",
    "if open_postns['flSellQty'] == '0' and float(inst_quo['message'][0][\"last_traded_price\"]) > avg_trd_pricce:\n",
    "        for SELQTY in postn['data']:\n",
    "            if SELQTY['flSellQty'] == '0':\n",
    "                TRGT_QTY = SELQTY['flBuyQty']\n",
    "        filtered_list = [SELQTY for SELQTY in postn['data'][0]['flSellQty'] if SELQTY == '0']\n",
    "        \n",
    "        #TRGT_QTY = postn['data'][0]['flBuyQty']\n",
    "        #client.place_order starts\n",
    "        TRGTT=float(TRGT)\n",
    "        quantity=int(TRGT_QTY)\n",
    "        #trading_symbol=trd_symbl\n",
    "\n",
    "print(\"TRGT_TQY\", TRGT_QTY, \"price\", TRGTT , \"quantity\", quantity, \"trading_symbol\", trading_symbol)"
   ]
  },
  {
   "cell_type": "code",
   "execution_count": 69,
   "id": "d988bc2b",
   "metadata": {},
   "outputs": [
    {
     "name": "stdout",
     "output_type": "stream",
     "text": [
      "{'brkClnt': '08081', 'ordValDt': 'NA', 'exUsrInfo': 'NA', 'mfdBy': 'AKLPY0424H', 'vendorCode': '', 'rmk': '--', 'odCrt': 'NA', 'ordSrc': 'ADMINCPPAPI_MOB', 'sipInd': 'NA', 'prc': '18.45', 'prcTp': 'L', 'cnlQty': 0, 'uSec': '203730', 'classification': '0', 'mktPro': '0.00', 'ordEntTm': '29-Nov-2023 14:16:56', 'reqId': '2', 'algSeqNo': 'NA', 'qty': 150, 'unFldSz': 150, 'mktProPct': '--', 'algCat': 'NA', 'exOrdId': '1700000146203765', 'dscQty': 0, 'actId': 'YVZZ0', 'expDt': '30 Nov, 2023', 'trgPrc': '0.00', 'tok': '58278', 'symOrdId': 'NA', 'fldQty': 0, 'ordDtTm': '29-Nov-2023 14:16:56', 'avgPrc': '0.00', 'locId': '333333333333100', 'algId': 'NA', 'stat': 'Ok', 'prod': 'MIS', 'exSeg': 'nse_fo', 'GuiOrdId': '1701247616-197831-AKLPY0424H-ADMINAPI', 'usrId': 'AKLPY0424H', 'rptTp': 'NA', 'exCfmTm': '29-Nov-2023 14:16:56', 'hsUpTm': '2023/11/29 14:16:56', 'ordGenTp': 'NA', 'vldt': 'DAY', 'tckSz': '0.05', 'ordSt': 'open', 'trnsTp': 'S', 'refLmtPrc': 0.0, 'coPct': 0.0, 'nOrdNo': '231129001802014', 'ordAutSt': 'NA', 'rejRsn': '--', 'boeSec': 1701247616, 'expDtSsb': '1701354600', 'dscQtyPct': '0', 'stkPrc': '43800.00', 'sym': 'BANKNIFTY', 'trdSym': 'BANKNIFTY23NOV43800PE', 'multiplier': '1', 'precision': '2', 'noMktProFlg': '0.00', 'genNum': '1', 'series': 'XX', 'prcNum': '1', 'genDen': '1', 'brdLtQty': '15', 'mktProFlg': '0.00', 'defMktProV': '0.00', 'lotSz': '15', 'minQty': 0, 'optTp': 'PE', 'prcDen': '1'}\n"
     ]
    }
   ],
   "source": [
    "for SELQTY in ordr['data']:\n",
    "    if SELQTY['ordSt'] == 'open':\n",
    "        open_postns = SELQTY\n",
    "        \n",
    "print(open_postns)\n"
   ]
  },
  {
   "cell_type": "code",
   "execution_count": 63,
   "id": "a2449933",
   "metadata": {},
   "outputs": [
    {
     "name": "stdout",
     "output_type": "stream",
     "text": [
      "{'buyAmt': '2460.00', 'cfSellAmt': '0.00', 'prod': 'MIS', 'exSeg': 'nse_fo', 'sqrFlg': 'Y', 'actId': 'YVZZ0', 'cfBuyQty': '0', 'hsUpTm': '2023/11/29 14:10:17', 'cfSellQty': '0', 'tok': '58278', 'flBuyQty': '150', 'flSellQty': '0', 'sellAmt': '0.00', 'posFlg': 'true', 'cfBuyAmt': '0.00', 'stkPrc': '43800.00', 'trdSym': 'BANKNIFTY23NOV43800PE', 'sym': 'BANKNIFTY', 'multiplier': '1', 'precision': '2', 'expDt': '30 Nov, 2023', 'type': 'OPTIDX', 'genNum': '1', 'series': 'XX', 'prcNum': '1', 'genDen': '1', 'brdLtQty': 15, 'exp': '1701354600', 'lotSz': '15', 'optTp': 'PE', 'prcDen': '1'}\n"
     ]
    }
   ],
   "source": [
    "for SELQTY in postn['data']:\n",
    "    if SELQTY['flSellQty'] == '0':\n",
    "        print(SELQTY)"
   ]
  },
  {
   "cell_type": "code",
   "execution_count": 5,
   "id": "93b394bb",
   "metadata": {},
   "outputs": [],
   "source": [
    "def decimal_roundoff(decimal):\n",
    "    decimal = \"{:.2f}\".format(decimal)\n",
    "    #print(\"decimall\",decimal)\n",
    "    nw_decimal = 9.9\n",
    "    ss1 = str(decimal)\n",
    "    dott = ss1.find(\".\")\n",
    "    strt = dott +2\n",
    "    end = strt +2\n",
    "    strt1 = dott +1\n",
    "    end1 = strt1 + 2\n",
    "    #print(dott,strt,strt1)\n",
    "    ss4 = ss1[strt:end]\n",
    "    #print(\"ss4\",ss4)\n",
    "    if ss4 == \" \":\n",
    "        ss2 = 0\n",
    "    else:\n",
    "        ss2 = int(ss1[strt:end])\n",
    "   # if ss2 == \" \":\n",
    "   #     ss2 = 0\n",
    "    ss3 = int(ss1[strt1:end1])\n",
    "    #print(ss2)\n",
    "    #print(\"ss3\",ss3)\n",
    "    if ss2 == 1 or ss2 == 2:\n",
    "        #print(\"12\")\n",
    "        nw_decimal = ss1[:-1] + '0'\n",
    "        return nw_decimal\n",
    "\n",
    "        #print(\"nw_decimal12\",nw_decimal12)\n",
    "    elif ss2 == 3 or ss2 == 4 or ss2 == 6 or ss2 == 7:\n",
    "        #print(\"3, 4, 6, 7\")\n",
    "        #lldigi = 5\n",
    "        nw_decimal = ss1[:-1] + '5'\n",
    "        return nw_decimal\n",
    "        #print(\"nw_decimal2467\",nw_decimal2467)\n",
    "    elif ss2 == 8 or ss2 == 9:\n",
    "        if ss2 == 8:\n",
    "            nw_decimal = float(ss1) + 0.02\n",
    "            return nw_decimal\n",
    "        elif ss2 == 9:\n",
    "            nw_decimal = float(ss1) + 0.01\n",
    "            return nw_decimal\n",
    "    else:\n",
    "        nw_decimal = decimal\n",
    "        return nw_decimal\n",
    "        #print(\"nw_decimal89\",nw_decimal89)\n",
    "    \n"
   ]
  }
 ],
 "metadata": {
  "kernelspec": {
   "display_name": "Python 3 (ipykernel)",
   "language": "python",
   "name": "python3"
  },
  "language_info": {
   "codemirror_mode": {
    "name": "ipython",
    "version": 3
   },
   "file_extension": ".py",
   "mimetype": "text/x-python",
   "name": "python",
   "nbconvert_exporter": "python",
   "pygments_lexer": "ipython3",
   "version": "3.9.13"
  }
 },
 "nbformat": 4,
 "nbformat_minor": 5
}
